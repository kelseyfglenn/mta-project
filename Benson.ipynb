{
 "metadata": {
  "language_info": {
   "codemirror_mode": {
    "name": "ipython",
    "version": 3
   },
   "file_extension": ".py",
   "mimetype": "text/x-python",
   "name": "python",
   "nbconvert_exporter": "python",
   "pygments_lexer": "ipython3",
   "version": "3.8.5-final"
  },
  "orig_nbformat": 2,
  "kernelspec": {
   "name": "python_defaultSpec_1600730448211",
   "display_name": "Python 3.8.5 64-bit ('base': conda)"
  }
 },
 "nbformat": 4,
 "nbformat_minor": 2,
 "cells": [
  {
   "cell_type": "code",
   "execution_count": 9,
   "metadata": {},
   "outputs": [],
   "source": [
    "import pandas as pd"
   ]
  },
  {
   "cell_type": "code",
   "execution_count": 31,
   "metadata": {},
   "outputs": [],
   "source": [
    "turnstile_files = (\"MTA_Data/turnstile_200905.txt\", \"MTA_Data/turnstile_200912.txt\", \"MTA_Data/turnstile_200919.txt\")\n",
    "turnstile_data = (pd.read_csv(file) for file in turnstile_files)"
   ]
  },
  {
   "cell_type": "code",
   "execution_count": 32,
   "metadata": {},
   "outputs": [],
   "source": [
    "turnstiles = pd.concat(turnstile_data)"
   ]
  },
  {
   "cell_type": "code",
   "execution_count": 34,
   "metadata": {},
   "outputs": [],
   "source": [
    "turnstiles[\"DATE_TIME\"] = pd.to_datetime(turnstiles['DATE'] + \" \" + turnstiles['TIME'])\n",
    "one_day = pd.Timedelta(1, unit=\"D\")\n",
    "daily_turnstiles = turnstiles.loc[turnstiles['TIME'] == '00:00:00']\n",
    "daily_turnstiles = daily_turnstiles[['C/A', 'UNIT', 'SCP', 'DATE_TIME', 'ENTRIES']]"
   ]
  },
  {
   "cell_type": "code",
   "execution_count": 58,
   "metadata": {},
   "outputs": [
    {
     "output_type": "error",
     "ename": "AttributeError",
     "evalue": "'PrettyDict' object has no attribute 'iloc'",
     "traceback": [
      "\u001b[0;31m---------------------------------------------------------------------------\u001b[0m",
      "\u001b[0;31mAttributeError\u001b[0m                            Traceback (most recent call last)",
      "\u001b[0;32m<ipython-input-58-cf1b8170a97e>\u001b[0m in \u001b[0;36m<module>\u001b[0;34m\u001b[0m\n\u001b[1;32m      1\u001b[0m \u001b[0mgrouped\u001b[0m \u001b[0;34m=\u001b[0m \u001b[0mdaily_turnstiles\u001b[0m\u001b[0;34m.\u001b[0m\u001b[0mgroupby\u001b[0m\u001b[0;34m(\u001b[0m\u001b[0;34m[\u001b[0m\u001b[0;34m'C/A'\u001b[0m\u001b[0;34m,\u001b[0m \u001b[0;34m'UNIT'\u001b[0m\u001b[0;34m,\u001b[0m \u001b[0;34m'SCP'\u001b[0m\u001b[0;34m,\u001b[0m \u001b[0;34m'DATE_TIME'\u001b[0m\u001b[0;34m]\u001b[0m\u001b[0;34m)\u001b[0m\u001b[0;34m\u001b[0m\u001b[0;34m\u001b[0m\u001b[0m\n\u001b[0;32m----> 2\u001b[0;31m \u001b[0mgrouped\u001b[0m\u001b[0;34m.\u001b[0m\u001b[0mgroups\u001b[0m\u001b[0;34m.\u001b[0m\u001b[0miloc\u001b[0m\u001b[0;34m[\u001b[0m\u001b[0;36m0\u001b[0m\u001b[0;34m]\u001b[0m\u001b[0;34m\u001b[0m\u001b[0;34m\u001b[0m\u001b[0m\n\u001b[0m",
      "\u001b[0;31mAttributeError\u001b[0m: 'PrettyDict' object has no attribute 'iloc'"
     ]
    }
   ],
   "source": [
    "grouped = daily_turnstiles.groupby(['C/A', 'UNIT', 'SCP', 'DATE_TIME'])\n",
    "grouped.groups.iloc[0]"
   ]
  },
  {
   "cell_type": "code",
   "execution_count": null,
   "metadata": {},
   "outputs": [],
   "source": []
  }
 ]
}
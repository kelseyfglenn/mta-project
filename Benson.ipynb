{
 "metadata": {
  "language_info": {
   "codemirror_mode": {
    "name": "ipython",
    "version": 3
   },
   "file_extension": ".py",
   "mimetype": "text/x-python",
   "name": "python",
   "nbconvert_exporter": "python",
   "pygments_lexer": "ipython3",
   "version": "3.8.5-final"
  },
  "orig_nbformat": 2,
  "kernelspec": {
   "name": "python_defaultSpec_1600730448211",
   "display_name": "Python 3.8.5 64-bit ('base': conda)"
  }
 },
 "nbformat": 4,
 "nbformat_minor": 2,
 "cells": [
  {
   "cell_type": "code",
   "execution_count": 1,
   "metadata": {},
   "outputs": [],
   "source": [
    "import pandas as pd"
   ]
  },
  {
   "cell_type": "code",
   "execution_count": 4,
   "metadata": {},
   "outputs": [],
   "source": [
    "turnstile_200905 = pd.read_csv(\"MTA_Data/turnstile_200905.txt\")\n",
    "turnstile_200912 = pd.read_csv(\"MTA_Data/turnstile_200912.txt\")\n",
    "turnstile_200919 = pd.read_csv(\"MTA_Data/turnstile_200919.txt\")"
   ]
  },
  {
   "cell_type": "code",
   "execution_count": 8,
   "metadata": {},
   "outputs": [],
   "source": [
    "turnstiles = pd.concat([turnstile_200905, turnstile_200912, turnstile_200919])"
   ]
  },
  {
   "cell_type": "code",
   "execution_count": 12,
   "metadata": {},
   "outputs": [
    {
     "output_type": "execute_result",
     "data": {
      "text/plain": "          C/A  UNIT       SCP        STATION LINENAME DIVISION        DATE  \\\n0        A002  R051  02-00-00          59 ST  NQR456W      BMT  08/29/2020   \n1        A002  R051  02-00-00          59 ST  NQR456W      BMT  08/29/2020   \n2        A002  R051  02-00-00          59 ST  NQR456W      BMT  08/29/2020   \n3        A002  R051  02-00-00          59 ST  NQR456W      BMT  08/29/2020   \n4        A002  R051  02-00-00          59 ST  NQR456W      BMT  08/29/2020   \n...       ...   ...       ...            ...      ...      ...         ...   \n209656  TRAM2  R469  00-05-01  RIT-ROOSEVELT        R      RIT  09/18/2020   \n209657  TRAM2  R469  00-05-01  RIT-ROOSEVELT        R      RIT  09/18/2020   \n209658  TRAM2  R469  00-05-01  RIT-ROOSEVELT        R      RIT  09/18/2020   \n209659  TRAM2  R469  00-05-01  RIT-ROOSEVELT        R      RIT  09/18/2020   \n209660  TRAM2  R469  00-05-01  RIT-ROOSEVELT        R      RIT  09/18/2020   \n\n            TIME     DESC  ENTRIES  \\\n0       00:00:00  REGULAR  7450785   \n1       04:00:00  REGULAR  7450788   \n2       08:00:00  REGULAR  7450798   \n3       12:00:00  REGULAR  7450826   \n4       16:00:00  REGULAR  7450910   \n...          ...      ...      ...   \n209656  05:00:00  REGULAR     5554   \n209657  09:00:00  REGULAR     5554   \n209658  13:00:00  REGULAR     5554   \n209659  17:00:00  REGULAR     5554   \n209660  21:00:00  REGULAR     5554   \n\n        EXITS                                                                 \n0                                                 2533372                     \n1                                                 2533375                     \n2                                                 2533391                     \n3                                                 2533423                     \n4                                                 2533454                     \n...                                                   ...                     \n209656                                                541                     \n209657                                                541                     \n209658                                                541                     \n209659                                                541                     \n209660                                                541                     \n\n[628297 rows x 11 columns]",
      "text/html": "<div>\n<style scoped>\n    .dataframe tbody tr th:only-of-type {\n        vertical-align: middle;\n    }\n\n    .dataframe tbody tr th {\n        vertical-align: top;\n    }\n\n    .dataframe thead th {\n        text-align: right;\n    }\n</style>\n<table border=\"1\" class=\"dataframe\">\n  <thead>\n    <tr style=\"text-align: right;\">\n      <th></th>\n      <th>C/A</th>\n      <th>UNIT</th>\n      <th>SCP</th>\n      <th>STATION</th>\n      <th>LINENAME</th>\n      <th>DIVISION</th>\n      <th>DATE</th>\n      <th>TIME</th>\n      <th>DESC</th>\n      <th>ENTRIES</th>\n      <th>EXITS</th>\n    </tr>\n  </thead>\n  <tbody>\n    <tr>\n      <th>0</th>\n      <td>A002</td>\n      <td>R051</td>\n      <td>02-00-00</td>\n      <td>59 ST</td>\n      <td>NQR456W</td>\n      <td>BMT</td>\n      <td>08/29/2020</td>\n      <td>00:00:00</td>\n      <td>REGULAR</td>\n      <td>7450785</td>\n      <td>2533372</td>\n    </tr>\n    <tr>\n      <th>1</th>\n      <td>A002</td>\n      <td>R051</td>\n      <td>02-00-00</td>\n      <td>59 ST</td>\n      <td>NQR456W</td>\n      <td>BMT</td>\n      <td>08/29/2020</td>\n      <td>04:00:00</td>\n      <td>REGULAR</td>\n      <td>7450788</td>\n      <td>2533375</td>\n    </tr>\n    <tr>\n      <th>2</th>\n      <td>A002</td>\n      <td>R051</td>\n      <td>02-00-00</td>\n      <td>59 ST</td>\n      <td>NQR456W</td>\n      <td>BMT</td>\n      <td>08/29/2020</td>\n      <td>08:00:00</td>\n      <td>REGULAR</td>\n      <td>7450798</td>\n      <td>2533391</td>\n    </tr>\n    <tr>\n      <th>3</th>\n      <td>A002</td>\n      <td>R051</td>\n      <td>02-00-00</td>\n      <td>59 ST</td>\n      <td>NQR456W</td>\n      <td>BMT</td>\n      <td>08/29/2020</td>\n      <td>12:00:00</td>\n      <td>REGULAR</td>\n      <td>7450826</td>\n      <td>2533423</td>\n    </tr>\n    <tr>\n      <th>4</th>\n      <td>A002</td>\n      <td>R051</td>\n      <td>02-00-00</td>\n      <td>59 ST</td>\n      <td>NQR456W</td>\n      <td>BMT</td>\n      <td>08/29/2020</td>\n      <td>16:00:00</td>\n      <td>REGULAR</td>\n      <td>7450910</td>\n      <td>2533454</td>\n    </tr>\n    <tr>\n      <th>...</th>\n      <td>...</td>\n      <td>...</td>\n      <td>...</td>\n      <td>...</td>\n      <td>...</td>\n      <td>...</td>\n      <td>...</td>\n      <td>...</td>\n      <td>...</td>\n      <td>...</td>\n      <td>...</td>\n    </tr>\n    <tr>\n      <th>209656</th>\n      <td>TRAM2</td>\n      <td>R469</td>\n      <td>00-05-01</td>\n      <td>RIT-ROOSEVELT</td>\n      <td>R</td>\n      <td>RIT</td>\n      <td>09/18/2020</td>\n      <td>05:00:00</td>\n      <td>REGULAR</td>\n      <td>5554</td>\n      <td>541</td>\n    </tr>\n    <tr>\n      <th>209657</th>\n      <td>TRAM2</td>\n      <td>R469</td>\n      <td>00-05-01</td>\n      <td>RIT-ROOSEVELT</td>\n      <td>R</td>\n      <td>RIT</td>\n      <td>09/18/2020</td>\n      <td>09:00:00</td>\n      <td>REGULAR</td>\n      <td>5554</td>\n      <td>541</td>\n    </tr>\n    <tr>\n      <th>209658</th>\n      <td>TRAM2</td>\n      <td>R469</td>\n      <td>00-05-01</td>\n      <td>RIT-ROOSEVELT</td>\n      <td>R</td>\n      <td>RIT</td>\n      <td>09/18/2020</td>\n      <td>13:00:00</td>\n      <td>REGULAR</td>\n      <td>5554</td>\n      <td>541</td>\n    </tr>\n    <tr>\n      <th>209659</th>\n      <td>TRAM2</td>\n      <td>R469</td>\n      <td>00-05-01</td>\n      <td>RIT-ROOSEVELT</td>\n      <td>R</td>\n      <td>RIT</td>\n      <td>09/18/2020</td>\n      <td>17:00:00</td>\n      <td>REGULAR</td>\n      <td>5554</td>\n      <td>541</td>\n    </tr>\n    <tr>\n      <th>209660</th>\n      <td>TRAM2</td>\n      <td>R469</td>\n      <td>00-05-01</td>\n      <td>RIT-ROOSEVELT</td>\n      <td>R</td>\n      <td>RIT</td>\n      <td>09/18/2020</td>\n      <td>21:00:00</td>\n      <td>REGULAR</td>\n      <td>5554</td>\n      <td>541</td>\n    </tr>\n  </tbody>\n</table>\n<p>628297 rows × 11 columns</p>\n</div>"
     },
     "metadata": {},
     "execution_count": 12
    }
   ],
   "source": []
  },
  {
   "cell_type": "code",
   "execution_count": null,
   "metadata": {},
   "outputs": [],
   "source": []
  }
 ]
}
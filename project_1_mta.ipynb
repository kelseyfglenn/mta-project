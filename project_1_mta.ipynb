{
 "cells": [
  {
   "cell_type": "markdown",
   "metadata": {
    "ExecuteTime": {
     "end_time": "2020-09-27T14:41:54.150339Z",
     "start_time": "2020-09-27T14:41:54.148168Z"
    }
   },
   "source": [
    "# Project 1: MTA Data Visualization for WTWY\n"
   ]
  },
  {
   "cell_type": "code",
   "execution_count": 324,
   "metadata": {
    "ExecuteTime": {
     "end_time": "2020-09-27T17:35:37.534311Z",
     "start_time": "2020-09-27T17:35:37.532116Z"
    }
   },
   "outputs": [],
   "source": [
    "from __future__ import print_function, division"
   ]
  },
  {
   "cell_type": "code",
   "execution_count": 325,
   "metadata": {
    "ExecuteTime": {
     "end_time": "2020-09-27T17:35:38.392835Z",
     "start_time": "2020-09-27T17:35:38.388900Z"
    }
   },
   "outputs": [],
   "source": [
    "import pandas as pd\n",
    "import numpy as np\n",
    "import matplotlib.pyplot as plt\n",
    "\n",
    "%matplotlib inline"
   ]
  },
  {
   "cell_type": "markdown",
   "metadata": {},
   "source": [
    "## Data Sourcing and Cleaning\n",
    "\n",
    "For simplicity, we use Vinny's partially-cleaned data while conducting further cleaning and grouping. The data are from the MTA, and we look at 3 consecutive weeks from 8/27/16 to 9/16/16."
   ]
  },
  {
   "cell_type": "code",
   "execution_count": 326,
   "metadata": {
    "ExecuteTime": {
     "end_time": "2020-09-27T17:36:30.828610Z",
     "start_time": "2020-09-27T17:36:30.145224Z"
    }
   },
   "outputs": [],
   "source": [
    "# Source: http://web.mta.info/developers/turnstile.html\n",
    "def get_data(week_nums):\n",
    "    url = \"data/turnstile_{}.txt\"\n",
    "    dfs = []\n",
    "    for week_num in week_nums:\n",
    "        file_url = url.format(week_num)\n",
    "        dfs.append(pd.read_csv(file_url))\n",
    "    return pd.concat(dfs)\n",
    "        \n",
    "week_nums = [160903, 160910, 160917]\n",
    "turnstiles_df = get_data(week_nums)"
   ]
  },
  {
   "cell_type": "code",
   "execution_count": 329,
   "metadata": {
    "ExecuteTime": {
     "end_time": "2020-09-27T17:36:54.003422Z",
     "start_time": "2020-09-27T17:36:53.991717Z"
    }
   },
   "outputs": [
    {
     "data": {
      "text/html": [
       "<div>\n",
       "<style scoped>\n",
       "    .dataframe tbody tr th:only-of-type {\n",
       "        vertical-align: middle;\n",
       "    }\n",
       "\n",
       "    .dataframe tbody tr th {\n",
       "        vertical-align: top;\n",
       "    }\n",
       "\n",
       "    .dataframe thead th {\n",
       "        text-align: right;\n",
       "    }\n",
       "</style>\n",
       "<table border=\"1\" class=\"dataframe\">\n",
       "  <thead>\n",
       "    <tr style=\"text-align: right;\">\n",
       "      <th></th>\n",
       "      <th>C/A</th>\n",
       "      <th>UNIT</th>\n",
       "      <th>SCP</th>\n",
       "      <th>STATION</th>\n",
       "      <th>LINENAME</th>\n",
       "      <th>DIVISION</th>\n",
       "      <th>DATE</th>\n",
       "      <th>TIME</th>\n",
       "      <th>DESC</th>\n",
       "      <th>ENTRIES</th>\n",
       "      <th>EXITS</th>\n",
       "    </tr>\n",
       "  </thead>\n",
       "  <tbody>\n",
       "    <tr>\n",
       "      <th>0</th>\n",
       "      <td>A002</td>\n",
       "      <td>R051</td>\n",
       "      <td>02-00-00</td>\n",
       "      <td>59 ST</td>\n",
       "      <td>NQR456</td>\n",
       "      <td>BMT</td>\n",
       "      <td>08/27/2016</td>\n",
       "      <td>00:00:00</td>\n",
       "      <td>REGULAR</td>\n",
       "      <td>5799442</td>\n",
       "      <td>1966041</td>\n",
       "    </tr>\n",
       "    <tr>\n",
       "      <th>1</th>\n",
       "      <td>A002</td>\n",
       "      <td>R051</td>\n",
       "      <td>02-00-00</td>\n",
       "      <td>59 ST</td>\n",
       "      <td>NQR456</td>\n",
       "      <td>BMT</td>\n",
       "      <td>08/27/2016</td>\n",
       "      <td>04:00:00</td>\n",
       "      <td>REGULAR</td>\n",
       "      <td>5799463</td>\n",
       "      <td>1966044</td>\n",
       "    </tr>\n",
       "    <tr>\n",
       "      <th>2</th>\n",
       "      <td>A002</td>\n",
       "      <td>R051</td>\n",
       "      <td>02-00-00</td>\n",
       "      <td>59 ST</td>\n",
       "      <td>NQR456</td>\n",
       "      <td>BMT</td>\n",
       "      <td>08/27/2016</td>\n",
       "      <td>08:00:00</td>\n",
       "      <td>REGULAR</td>\n",
       "      <td>5799492</td>\n",
       "      <td>1966079</td>\n",
       "    </tr>\n",
       "    <tr>\n",
       "      <th>3</th>\n",
       "      <td>A002</td>\n",
       "      <td>R051</td>\n",
       "      <td>02-00-00</td>\n",
       "      <td>59 ST</td>\n",
       "      <td>NQR456</td>\n",
       "      <td>BMT</td>\n",
       "      <td>08/27/2016</td>\n",
       "      <td>12:00:00</td>\n",
       "      <td>REGULAR</td>\n",
       "      <td>5799610</td>\n",
       "      <td>1966155</td>\n",
       "    </tr>\n",
       "    <tr>\n",
       "      <th>4</th>\n",
       "      <td>A002</td>\n",
       "      <td>R051</td>\n",
       "      <td>02-00-00</td>\n",
       "      <td>59 ST</td>\n",
       "      <td>NQR456</td>\n",
       "      <td>BMT</td>\n",
       "      <td>08/27/2016</td>\n",
       "      <td>16:00:00</td>\n",
       "      <td>REGULAR</td>\n",
       "      <td>5799833</td>\n",
       "      <td>1966214</td>\n",
       "    </tr>\n",
       "  </tbody>\n",
       "</table>\n",
       "</div>"
      ],
      "text/plain": [
       "    C/A  UNIT       SCP STATION LINENAME DIVISION        DATE      TIME  \\\n",
       "0  A002  R051  02-00-00   59 ST   NQR456      BMT  08/27/2016  00:00:00   \n",
       "1  A002  R051  02-00-00   59 ST   NQR456      BMT  08/27/2016  04:00:00   \n",
       "2  A002  R051  02-00-00   59 ST   NQR456      BMT  08/27/2016  08:00:00   \n",
       "3  A002  R051  02-00-00   59 ST   NQR456      BMT  08/27/2016  12:00:00   \n",
       "4  A002  R051  02-00-00   59 ST   NQR456      BMT  08/27/2016  16:00:00   \n",
       "\n",
       "      DESC  ENTRIES  \\\n",
       "0  REGULAR  5799442   \n",
       "1  REGULAR  5799463   \n",
       "2  REGULAR  5799492   \n",
       "3  REGULAR  5799610   \n",
       "4  REGULAR  5799833   \n",
       "\n",
       "   EXITS                                                                 \n",
       "0                                            1966041                     \n",
       "1                                            1966044                     \n",
       "2                                            1966079                     \n",
       "3                                            1966155                     \n",
       "4                                            1966214                     "
      ]
     },
     "execution_count": 329,
     "metadata": {},
     "output_type": "execute_result"
    }
   ],
   "source": [
    "turnstiles_df.head(5)"
   ]
  },
  {
   "cell_type": "markdown",
   "metadata": {},
   "source": [
    "We're interested in cleaning the timeslot data. Let's take a look at how the entries are distributed."
   ]
  },
  {
   "cell_type": "code",
   "execution_count": 330,
   "metadata": {
    "ExecuteTime": {
     "end_time": "2020-09-27T17:37:35.911257Z",
     "start_time": "2020-09-27T17:37:35.842809Z"
    }
   },
   "outputs": [
    {
     "name": "stdout",
     "output_type": "stream",
     "text": [
      "['00:00:00' '04:00:00' '08:00:00' ... '12:41:15' '12:42:39' '11:57:55']\n"
     ]
    },
    {
     "data": {
      "text/plain": [
       "20813"
      ]
     },
     "execution_count": 330,
     "metadata": {},
     "output_type": "execute_result"
    }
   ],
   "source": [
    "# Print the unique timefields; count the (odd) ones\n",
    "print(turnstiles_df[\"TIME\"].unique())\n",
    "len(turnstiles_df[\"TIME\"].unique())"
   ]
  },
  {
   "cell_type": "code",
   "execution_count": 331,
   "metadata": {
    "ExecuteTime": {
     "end_time": "2020-09-27T17:37:37.639916Z",
     "start_time": "2020-09-27T17:37:37.485977Z"
    }
   },
   "outputs": [
    {
     "data": {
      "text/plain": [
       "(46559, 580895, 0.08015045748371048)"
      ]
     },
     "execution_count": 331,
     "metadata": {},
     "output_type": "execute_result"
    }
   ],
   "source": [
    "# That's a lot of different times. Let's see how many are \"odd\" (minutes & seconds aren't 00:00)\n",
    "odd_times = len(turnstiles_df[[time[3:] != \"00:00\" for time in turnstiles_df[\"TIME\"]]])\n",
    "total_times = len(turnstiles_df)\n",
    "odd_times, total_times, odd_times/total_times"
   ]
  },
  {
   "cell_type": "markdown",
   "metadata": {},
   "source": [
    "~8% of the data are odd times. this is a fairly low proportion, especially as the entries column tracks a rolling counter, getting rid of intermediate data may not influence our results if the regular entries are correct"
   ]
  },
  {
   "cell_type": "code",
   "execution_count": 333,
   "metadata": {
    "ExecuteTime": {
     "end_time": "2020-09-27T17:37:44.866258Z",
     "start_time": "2020-09-27T17:37:44.596115Z"
    }
   },
   "outputs": [
    {
     "data": {
      "text/plain": [
       "08:00:00    50661\n",
       "00:00:00    50660\n",
       "04:00:00    50655\n",
       "20:00:00    50616\n",
       "12:00:00    50610\n",
       "16:00:00    50594\n",
       "01:00:00    35365\n",
       "05:00:00    35331\n",
       "13:00:00    35323\n",
       "09:00:00    35315\n",
       "21:00:00    35295\n",
       "17:00:00    35285\n",
       "22:00:00     2288\n",
       "18:00:00     2288\n",
       "14:00:00     2287\n",
       "02:00:00     2287\n",
       "06:00:00     2287\n",
       "10:00:00     2274\n",
       "15:00:00      820\n",
       "03:00:00      819\n",
       "11:00:00      819\n",
       "19:00:00      819\n",
       "07:00:00      819\n",
       "23:00:00      819\n",
       "Name: TIME, dtype: int64"
      ]
     },
     "execution_count": 333,
     "metadata": {},
     "output_type": "execute_result"
    }
   ],
   "source": [
    "# Drop irregular times\n",
    "turnstiles_df = turnstiles_df[[time[3:5] == \"00\" and time[6:] == \"00\" for time in turnstiles_df[\"TIME\"]]]\n",
    "\n",
    "# What's left?\n",
    "turnstiles_df[\"TIME\"].value_counts()"
   ]
  },
  {
   "cell_type": "markdown",
   "metadata": {},
   "source": [
    "We see that there seem to be different cycles: 12AM/4AM/8AM/12PM/4PM/8PM, 1AM/5AM/9AM/1PM/5PM/9PM, etc.\n",
    "\n",
    "We might like to shift everything to the 12AM, 4AM, 8AM, 12PM, 4PM, 8PM cycle in order to simplify our analysis. But we need to check that there are no merging conflicts, e.g. a day with entries that belong to multiple cycles. In that case, we might shift a 9AM entry to 8AM while an 8AM entry already exists."
   ]
  },
  {
   "cell_type": "code",
   "execution_count": 336,
   "metadata": {
    "ExecuteTime": {
     "end_time": "2020-09-27T17:37:59.967599Z",
     "start_time": "2020-09-27T17:37:58.319150Z"
    }
   },
   "outputs": [
    {
     "data": {
      "text/plain": [
       "0"
      ]
     },
     "execution_count": 336,
     "metadata": {},
     "output_type": "execute_result"
    }
   ],
   "source": [
    "# detect a conflict in a series of times for a particular turnstile on a particular date\n",
    "def conflict_exists(times):\n",
    "    to_hours = list(map(lambda x: int(x[:2]), times))\n",
    "    return len(np.unique(np.array(to_hours) % 4)) != 1\n",
    "\n",
    "# Check for conflicts\n",
    "(turnstiles_df.groupby([\"C/A\", \"UNIT\", \"SCP\", \"STATION\", \"DATE\"]))[\"TIME\"] \\\n",
    "        .agg(lambda x: len(np.unique((np.array(list(map(lambda y: int(y[:2]), x))) % 4))) != 1).sum()"
   ]
  },
  {
   "cell_type": "markdown",
   "metadata": {},
   "source": [
    "No conflicts, so we establish 12AM/4AM/8AM/12PM/4PM/8PM as our desired cycle and shift all other cycles back to match."
   ]
  },
  {
   "cell_type": "code",
   "execution_count": 337,
   "metadata": {
    "ExecuteTime": {
     "end_time": "2020-09-27T17:38:00.456667Z",
     "start_time": "2020-09-27T17:38:00.053214Z"
    }
   },
   "outputs": [
    {
     "data": {
      "text/plain": [
       "00:00:00    89131\n",
       "04:00:00    89092\n",
       "08:00:00    89069\n",
       "12:00:00    89040\n",
       "20:00:00    89018\n",
       "16:00:00    88986\n",
       "Name: TIME, dtype: int64"
      ]
     },
     "execution_count": 337,
     "metadata": {},
     "output_type": "execute_result"
    }
   ],
   "source": [
    "# shift %H:00:00 to the previous multiple of 4, e.g. 5AM, 6AM, 7AM to 4AM\n",
    "def shift_time(time_str):\n",
    "    hour = int(time_str[:2])\n",
    "    hour -= hour % 4\n",
    "    return str(hour).zfill(2) + time_str[2:]\n",
    "\n",
    "turnstiles_df[\"TIME\"] = turnstiles_df[\"TIME\"].apply(lambda x: shift_time(x))\n",
    "turnstiles_df[\"TIME\"].value_counts()"
   ]
  },
  {
   "cell_type": "markdown",
   "metadata": {},
   "source": [
    "As desired, we've shifted all the times."
   ]
  },
  {
   "cell_type": "code",
   "execution_count": 338,
   "metadata": {
    "ExecuteTime": {
     "end_time": "2020-09-27T17:38:02.424231Z",
     "start_time": "2020-09-27T17:38:02.258096Z"
    }
   },
   "outputs": [],
   "source": [
    "# We add a column of datetime objects\n",
    "turnstiles_df[\"DATE_TIME\"] = pd.to_datetime(turnstiles_df[\"DATE\"] + \" \" + turnstiles_df[\"TIME\"], \n",
    "                                            format=\"%m/%d/%Y %H:%M:%S\")"
   ]
  },
  {
   "cell_type": "code",
   "execution_count": 339,
   "metadata": {
    "ExecuteTime": {
     "end_time": "2020-09-27T17:38:03.347715Z",
     "start_time": "2020-09-27T17:38:02.980710Z"
    }
   },
   "outputs": [
    {
     "data": {
      "text/html": [
       "<div>\n",
       "<style scoped>\n",
       "    .dataframe tbody tr th:only-of-type {\n",
       "        vertical-align: middle;\n",
       "    }\n",
       "\n",
       "    .dataframe tbody tr th {\n",
       "        vertical-align: top;\n",
       "    }\n",
       "\n",
       "    .dataframe thead th {\n",
       "        text-align: right;\n",
       "    }\n",
       "</style>\n",
       "<table border=\"1\" class=\"dataframe\">\n",
       "  <thead>\n",
       "    <tr style=\"text-align: right;\">\n",
       "      <th></th>\n",
       "      <th>C/A</th>\n",
       "      <th>UNIT</th>\n",
       "      <th>SCP</th>\n",
       "      <th>STATION</th>\n",
       "      <th>DATE_TIME</th>\n",
       "      <th>ENTRIES</th>\n",
       "    </tr>\n",
       "  </thead>\n",
       "  <tbody>\n",
       "    <tr>\n",
       "      <th>467843</th>\n",
       "      <td>R504</td>\n",
       "      <td>R276</td>\n",
       "      <td>00-00-01</td>\n",
       "      <td>VERNON-JACKSON</td>\n",
       "      <td>2016-09-16 08:00:00</td>\n",
       "      <td>2</td>\n",
       "    </tr>\n",
       "    <tr>\n",
       "      <th>0</th>\n",
       "      <td>A002</td>\n",
       "      <td>R051</td>\n",
       "      <td>02-00-00</td>\n",
       "      <td>59 ST</td>\n",
       "      <td>2016-08-27 00:00:00</td>\n",
       "      <td>1</td>\n",
       "    </tr>\n",
       "    <tr>\n",
       "      <th>356233</th>\n",
       "      <td>R165</td>\n",
       "      <td>R167</td>\n",
       "      <td>01-00-02</td>\n",
       "      <td>86 ST</td>\n",
       "      <td>2016-09-12 12:00:00</td>\n",
       "      <td>1</td>\n",
       "    </tr>\n",
       "    <tr>\n",
       "      <th>356231</th>\n",
       "      <td>R165</td>\n",
       "      <td>R167</td>\n",
       "      <td>01-00-02</td>\n",
       "      <td>86 ST</td>\n",
       "      <td>2016-09-12 04:00:00</td>\n",
       "      <td>1</td>\n",
       "    </tr>\n",
       "    <tr>\n",
       "      <th>356230</th>\n",
       "      <td>R165</td>\n",
       "      <td>R167</td>\n",
       "      <td>01-00-02</td>\n",
       "      <td>86 ST</td>\n",
       "      <td>2016-09-12 00:00:00</td>\n",
       "      <td>1</td>\n",
       "    </tr>\n",
       "  </tbody>\n",
       "</table>\n",
       "</div>"
      ],
      "text/plain": [
       "         C/A  UNIT       SCP         STATION           DATE_TIME  ENTRIES\n",
       "467843  R504  R276  00-00-01  VERNON-JACKSON 2016-09-16 08:00:00        2\n",
       "0       A002  R051  02-00-00           59 ST 2016-08-27 00:00:00        1\n",
       "356233  R165  R167  01-00-02           86 ST 2016-09-12 12:00:00        1\n",
       "356231  R165  R167  01-00-02           86 ST 2016-09-12 04:00:00        1\n",
       "356230  R165  R167  01-00-02           86 ST 2016-09-12 00:00:00        1"
      ]
     },
     "execution_count": 339,
     "metadata": {},
     "output_type": "execute_result"
    }
   ],
   "source": [
    "# Let's check for conflicts\n",
    "(turnstiles_df.groupby([\"C/A\", \"UNIT\", \"SCP\", \"STATION\", \"DATE_TIME\"],as_index=False)\n",
    "                        .ENTRIES.count().sort_values(by=\"ENTRIES\", ascending=False).head(5))\n"
   ]
  },
  {
   "cell_type": "markdown",
   "metadata": {},
   "source": [
    "Only one duplicate entry (the one Vinny isolated). Let's remove all duplicates using his method."
   ]
  },
  {
   "cell_type": "code",
   "execution_count": 340,
   "metadata": {
    "ExecuteTime": {
     "end_time": "2020-09-27T17:38:04.961958Z",
     "start_time": "2020-09-27T17:38:04.327716Z"
    }
   },
   "outputs": [
    {
     "data": {
      "text/html": [
       "<div>\n",
       "<style scoped>\n",
       "    .dataframe tbody tr th:only-of-type {\n",
       "        vertical-align: middle;\n",
       "    }\n",
       "\n",
       "    .dataframe tbody tr th {\n",
       "        vertical-align: top;\n",
       "    }\n",
       "\n",
       "    .dataframe thead th {\n",
       "        text-align: right;\n",
       "    }\n",
       "</style>\n",
       "<table border=\"1\" class=\"dataframe\">\n",
       "  <thead>\n",
       "    <tr style=\"text-align: right;\">\n",
       "      <th></th>\n",
       "      <th>C/A</th>\n",
       "      <th>UNIT</th>\n",
       "      <th>SCP</th>\n",
       "      <th>STATION</th>\n",
       "      <th>DATE_TIME</th>\n",
       "      <th>ENTRIES</th>\n",
       "    </tr>\n",
       "  </thead>\n",
       "  <tbody>\n",
       "    <tr>\n",
       "      <th>0</th>\n",
       "      <td>A002</td>\n",
       "      <td>R051</td>\n",
       "      <td>02-00-00</td>\n",
       "      <td>59 ST</td>\n",
       "      <td>2016-08-27 00:00:00</td>\n",
       "      <td>1</td>\n",
       "    </tr>\n",
       "    <tr>\n",
       "      <th>356234</th>\n",
       "      <td>R165</td>\n",
       "      <td>R167</td>\n",
       "      <td>01-00-02</td>\n",
       "      <td>86 ST</td>\n",
       "      <td>2016-09-12 16:00:00</td>\n",
       "      <td>1</td>\n",
       "    </tr>\n",
       "    <tr>\n",
       "      <th>356232</th>\n",
       "      <td>R165</td>\n",
       "      <td>R167</td>\n",
       "      <td>01-00-02</td>\n",
       "      <td>86 ST</td>\n",
       "      <td>2016-09-12 08:00:00</td>\n",
       "      <td>1</td>\n",
       "    </tr>\n",
       "    <tr>\n",
       "      <th>356231</th>\n",
       "      <td>R165</td>\n",
       "      <td>R167</td>\n",
       "      <td>01-00-02</td>\n",
       "      <td>86 ST</td>\n",
       "      <td>2016-09-12 04:00:00</td>\n",
       "      <td>1</td>\n",
       "    </tr>\n",
       "    <tr>\n",
       "      <th>356230</th>\n",
       "      <td>R165</td>\n",
       "      <td>R167</td>\n",
       "      <td>01-00-02</td>\n",
       "      <td>86 ST</td>\n",
       "      <td>2016-09-12 00:00:00</td>\n",
       "      <td>1</td>\n",
       "    </tr>\n",
       "  </tbody>\n",
       "</table>\n",
       "</div>"
      ],
      "text/plain": [
       "         C/A  UNIT       SCP STATION           DATE_TIME  ENTRIES\n",
       "0       A002  R051  02-00-00   59 ST 2016-08-27 00:00:00        1\n",
       "356234  R165  R167  01-00-02   86 ST 2016-09-12 16:00:00        1\n",
       "356232  R165  R167  01-00-02   86 ST 2016-09-12 08:00:00        1\n",
       "356231  R165  R167  01-00-02   86 ST 2016-09-12 04:00:00        1\n",
       "356230  R165  R167  01-00-02   86 ST 2016-09-12 00:00:00        1"
      ]
     },
     "execution_count": 340,
     "metadata": {},
     "output_type": "execute_result"
    }
   ],
   "source": [
    "# Get rid of the duplicate entry\n",
    "turnstiles_df.sort_values([\"C/A\", \"UNIT\", \"SCP\", \"STATION\", \"DATE_TIME\"], \n",
    "                          inplace=True, ascending=False)\n",
    "turnstiles_df.drop_duplicates(subset=[\"C/A\", \"UNIT\", \"SCP\", \"STATION\", \"DATE_TIME\"], inplace=True)\n",
    "\n",
    "(turnstiles_df.groupby([\"C/A\", \"UNIT\", \"SCP\", \"STATION\", \"DATE_TIME\"],as_index=False)\n",
    "                        .ENTRIES.count().sort_values(by=\"ENTRIES\", ascending=False).head(5))"
   ]
  },
  {
   "cell_type": "markdown",
   "metadata": {},
   "source": [
    "It's gone, as desired.\n",
    "\n",
    "Now let's create a new DataFrame with one row per turnstile/date-time. We would like to compute the difference between the entries and the entries shifted by one row.\n",
    "\n",
    "Note that we'd like our entry for, say, 4AM on a particular day to indicate the number of entries in the 4AM-8AM time period."
   ]
  },
  {
   "cell_type": "code",
   "execution_count": 341,
   "metadata": {
    "ExecuteTime": {
     "end_time": "2020-09-27T17:38:08.299606Z",
     "start_time": "2020-09-27T17:38:06.195658Z"
    }
   },
   "outputs": [],
   "source": [
    "turnstiles_by_timeslot = (turnstiles_df\n",
    "                        .groupby([\"C/A\", \"UNIT\", \"SCP\", \"STATION\", \"DATE_TIME\", \"DATE\", \"TIME\"],as_index=False)\n",
    "                        .ENTRIES.first())\n",
    "\n",
    "turnstiles_by_timeslot[[\"NEXT_TIME\", \"NEXT_ENTRIES\"]] = turnstiles_hourly.groupby([\"C/A\", \"UNIT\", \"SCP\", \"STATION\"])\\\n",
    "                                                                    [[\"DATE_TIME\", \"ENTRIES\"]]\\\n",
    "                                                                    .apply(lambda grp: grp.shift(-1))\n",
    "# Let's drop the last point for which there's no subsequent entry data\n",
    "turnstiles_by_timeslot.dropna(subset=[\"NEXT_TIME\"], axis=0, inplace=True)"
   ]
  },
  {
   "cell_type": "code",
   "execution_count": 348,
   "metadata": {
    "ExecuteTime": {
     "end_time": "2020-09-27T17:39:03.363961Z",
     "start_time": "2020-09-27T17:38:58.938785Z"
    }
   },
   "outputs": [
    {
     "data": {
      "text/plain": [
       "0 days     440834\n",
       "1 days      84971\n",
       "2 days         16\n",
       "3 days          3\n",
       "5 days          1\n",
       "11 days         1\n",
       "dtype: int64"
      ]
     },
     "execution_count": 348,
     "metadata": {},
     "output_type": "execute_result"
    }
   ],
   "source": [
    "# Let's do another check: we want DATE_TIME and NEXT_TIME to be either the same or consecutive so we don't\n",
    "# get inaccurate counts for late-night entries. \n",
    "date_diffs = turnstiles_by_timeslot[\"NEXT_TIME\"].map(lambda x: x.date()) - turnstiles_by_timeslot[\"DATE_TIME\"].map(lambda x: x.date())\n",
    "date_diffs.value_counts()"
   ]
  },
  {
   "cell_type": "markdown",
   "metadata": {},
   "source": [
    "So there's a handful of data points where the next day doesn't immediately follow. Let's just set ENTRIES and NEXT_ENTRIES for these rows to zero so the entries will be counted as zero for those timeslots."
   ]
  },
  {
   "cell_type": "code",
   "execution_count": 349,
   "metadata": {
    "ExecuteTime": {
     "end_time": "2020-09-27T17:39:03.371462Z",
     "start_time": "2020-09-27T17:39:03.365852Z"
    }
   },
   "outputs": [],
   "source": [
    "date_error = date_diffs > pd.Timedelta(1, unit=\"day\")\n",
    "turnstiles_by_timeslot.loc[date_error, [\"ENTRIES\", \"NEXT_ENTRIES\"]] = [0,0]"
   ]
  },
  {
   "cell_type": "markdown",
   "metadata": {},
   "source": [
    "We use Vinny's counting function on our data. We set a large max_counter first so we can examine the distribution of outliers."
   ]
  },
  {
   "cell_type": "code",
   "execution_count": 350,
   "metadata": {
    "ExecuteTime": {
     "end_time": "2020-09-27T17:39:10.712429Z",
     "start_time": "2020-09-27T17:39:03.373316Z"
    }
   },
   "outputs": [],
   "source": [
    "def get_counts(row, max_counter):\n",
    "    counter = row[\"NEXT_ENTRIES\"] - row[\"ENTRIES\"]\n",
    "    if counter < 0:\n",
    "        counter = -counter\n",
    "    if counter > max_counter:\n",
    "        #print(row[\"ENTRIES\"], row[\"NEXT_ENTRIES\"])\n",
    "        return 0\n",
    "    return counter\n",
    "\n",
    "turnstiles_by_timeslot[\"NUM_ENTRIES\"] = turnstiles_by_timeslot.apply(get_counts, axis=1, max_counter=100000)"
   ]
  },
  {
   "cell_type": "markdown",
   "metadata": {},
   "source": [
    "Let's take a look at the distribution of entry numbers."
   ]
  },
  {
   "cell_type": "code",
   "execution_count": 351,
   "metadata": {
    "ExecuteTime": {
     "end_time": "2020-09-27T17:39:10.745136Z",
     "start_time": "2020-09-27T17:39:10.714138Z"
    }
   },
   "outputs": [
    {
     "data": {
      "text/plain": [
       "NUM_ENTRIES\n",
       "(0, 1000]          448521\n",
       "(1000, 1500]         7411\n",
       "(1500, 2000]         1753\n",
       "(2000, 2500]          396\n",
       "(2500, 3000]          101\n",
       "(3000, 4000]           10\n",
       "(4000, 10000]           0\n",
       "(10000, 30000]          0\n",
       "(30000, 100000]         0\n",
       "Name: NUM_ENTRIES, dtype: int64"
      ]
     },
     "execution_count": 351,
     "metadata": {},
     "output_type": "execute_result"
    }
   ],
   "source": [
    "turnstiles_by_timeslot[\"NUM_ENTRIES\"].groupby(pd.cut(entries, [0,1000,1500, 2000,2500,3000,4000,10000,30000,100000])).count()"
   ]
  },
  {
   "cell_type": "markdown",
   "metadata": {},
   "source": [
    "Looks like anything above 3000 may be suspicious."
   ]
  },
  {
   "cell_type": "code",
   "execution_count": 352,
   "metadata": {
    "ExecuteTime": {
     "end_time": "2020-09-27T17:39:10.762069Z",
     "start_time": "2020-09-27T17:39:10.746554Z"
    }
   },
   "outputs": [
    {
     "data": {
      "text/html": [
       "<div>\n",
       "<style scoped>\n",
       "    .dataframe tbody tr th:only-of-type {\n",
       "        vertical-align: middle;\n",
       "    }\n",
       "\n",
       "    .dataframe tbody tr th {\n",
       "        vertical-align: top;\n",
       "    }\n",
       "\n",
       "    .dataframe thead th {\n",
       "        text-align: right;\n",
       "    }\n",
       "</style>\n",
       "<table border=\"1\" class=\"dataframe\">\n",
       "  <thead>\n",
       "    <tr style=\"text-align: right;\">\n",
       "      <th></th>\n",
       "      <th>ENTRIES</th>\n",
       "      <th>NEXT_ENTRIES</th>\n",
       "      <th>NUM_ENTRIES</th>\n",
       "    </tr>\n",
       "  </thead>\n",
       "  <tbody>\n",
       "    <tr>\n",
       "      <th>162532</th>\n",
       "      <td>8528768</td>\n",
       "      <td>8531772.0</td>\n",
       "      <td>3004.0</td>\n",
       "    </tr>\n",
       "    <tr>\n",
       "      <th>402323</th>\n",
       "      <td>7476109</td>\n",
       "      <td>7479130.0</td>\n",
       "      <td>3021.0</td>\n",
       "    </tr>\n",
       "    <tr>\n",
       "      <th>405199</th>\n",
       "      <td>32593208</td>\n",
       "      <td>32596230.0</td>\n",
       "      <td>3022.0</td>\n",
       "    </tr>\n",
       "    <tr>\n",
       "      <th>140384</th>\n",
       "      <td>8009336</td>\n",
       "      <td>8012363.0</td>\n",
       "      <td>3027.0</td>\n",
       "    </tr>\n",
       "    <tr>\n",
       "      <th>162538</th>\n",
       "      <td>8537928</td>\n",
       "      <td>8540990.0</td>\n",
       "      <td>3062.0</td>\n",
       "    </tr>\n",
       "    <tr>\n",
       "      <th>402329</th>\n",
       "      <td>7484705</td>\n",
       "      <td>7487820.0</td>\n",
       "      <td>3115.0</td>\n",
       "    </tr>\n",
       "    <tr>\n",
       "      <th>140378</th>\n",
       "      <td>8000798</td>\n",
       "      <td>8003965.0</td>\n",
       "      <td>3167.0</td>\n",
       "    </tr>\n",
       "    <tr>\n",
       "      <th>402365</th>\n",
       "      <td>7532198</td>\n",
       "      <td>7535405.0</td>\n",
       "      <td>3207.0</td>\n",
       "    </tr>\n",
       "    <tr>\n",
       "      <th>402371</th>\n",
       "      <td>7541659</td>\n",
       "      <td>7544911.0</td>\n",
       "      <td>3252.0</td>\n",
       "    </tr>\n",
       "    <tr>\n",
       "      <th>402377</th>\n",
       "      <td>7551515</td>\n",
       "      <td>7554796.0</td>\n",
       "      <td>3281.0</td>\n",
       "    </tr>\n",
       "    <tr>\n",
       "      <th>115474</th>\n",
       "      <td>5003</td>\n",
       "      <td>10.0</td>\n",
       "      <td>4993.0</td>\n",
       "    </tr>\n",
       "    <tr>\n",
       "      <th>114638</th>\n",
       "      <td>10855</td>\n",
       "      <td>38.0</td>\n",
       "      <td>10817.0</td>\n",
       "    </tr>\n",
       "    <tr>\n",
       "      <th>114434</th>\n",
       "      <td>13697</td>\n",
       "      <td>0.0</td>\n",
       "      <td>13697.0</td>\n",
       "    </tr>\n",
       "    <tr>\n",
       "      <th>114382</th>\n",
       "      <td>20875</td>\n",
       "      <td>9.0</td>\n",
       "      <td>20866.0</td>\n",
       "    </tr>\n",
       "    <tr>\n",
       "      <th>114257</th>\n",
       "      <td>24361</td>\n",
       "      <td>1.0</td>\n",
       "      <td>24360.0</td>\n",
       "    </tr>\n",
       "    <tr>\n",
       "      <th>116485</th>\n",
       "      <td>25077</td>\n",
       "      <td>38.0</td>\n",
       "      <td>25039.0</td>\n",
       "    </tr>\n",
       "    <tr>\n",
       "      <th>115022</th>\n",
       "      <td>29042</td>\n",
       "      <td>0.0</td>\n",
       "      <td>29042.0</td>\n",
       "    </tr>\n",
       "    <tr>\n",
       "      <th>115726</th>\n",
       "      <td>40081</td>\n",
       "      <td>20.0</td>\n",
       "      <td>40061.0</td>\n",
       "    </tr>\n",
       "    <tr>\n",
       "      <th>116359</th>\n",
       "      <td>45011</td>\n",
       "      <td>92.0</td>\n",
       "      <td>44919.0</td>\n",
       "    </tr>\n",
       "    <tr>\n",
       "      <th>115350</th>\n",
       "      <td>61556</td>\n",
       "      <td>65.0</td>\n",
       "      <td>61491.0</td>\n",
       "    </tr>\n",
       "    <tr>\n",
       "      <th>211889</th>\n",
       "      <td>69597</td>\n",
       "      <td>0.0</td>\n",
       "      <td>69597.0</td>\n",
       "    </tr>\n",
       "    <tr>\n",
       "      <th>498751</th>\n",
       "      <td>87278</td>\n",
       "      <td>0.0</td>\n",
       "      <td>87278.0</td>\n",
       "    </tr>\n",
       "    <tr>\n",
       "      <th>115977</th>\n",
       "      <td>95614</td>\n",
       "      <td>0.0</td>\n",
       "      <td>95614.0</td>\n",
       "    </tr>\n",
       "    <tr>\n",
       "      <th>116233</th>\n",
       "      <td>99043</td>\n",
       "      <td>55.0</td>\n",
       "      <td>98988.0</td>\n",
       "    </tr>\n",
       "  </tbody>\n",
       "</table>\n",
       "</div>"
      ],
      "text/plain": [
       "         ENTRIES  NEXT_ENTRIES  NUM_ENTRIES\n",
       "162532   8528768     8531772.0       3004.0\n",
       "402323   7476109     7479130.0       3021.0\n",
       "405199  32593208    32596230.0       3022.0\n",
       "140384   8009336     8012363.0       3027.0\n",
       "162538   8537928     8540990.0       3062.0\n",
       "402329   7484705     7487820.0       3115.0\n",
       "140378   8000798     8003965.0       3167.0\n",
       "402365   7532198     7535405.0       3207.0\n",
       "402371   7541659     7544911.0       3252.0\n",
       "402377   7551515     7554796.0       3281.0\n",
       "115474      5003          10.0       4993.0\n",
       "114638     10855          38.0      10817.0\n",
       "114434     13697           0.0      13697.0\n",
       "114382     20875           9.0      20866.0\n",
       "114257     24361           1.0      24360.0\n",
       "116485     25077          38.0      25039.0\n",
       "115022     29042           0.0      29042.0\n",
       "115726     40081          20.0      40061.0\n",
       "116359     45011          92.0      44919.0\n",
       "115350     61556          65.0      61491.0\n",
       "211889     69597           0.0      69597.0\n",
       "498751     87278           0.0      87278.0\n",
       "115977     95614           0.0      95614.0\n",
       "116233     99043          55.0      98988.0"
      ]
     },
     "execution_count": 352,
     "metadata": {},
     "output_type": "execute_result"
    }
   ],
   "source": [
    "turnstiles_by_timeslot[turnstiles_by_timeslot[\"NUM_ENTRIES\"] > 3000][[\"ENTRIES\", \"NEXT_ENTRIES\", \"NUM_ENTRIES\"]].sort_values(by=\"NUM_ENTRIES\")"
   ]
  },
  {
   "cell_type": "markdown",
   "metadata": {},
   "source": [
    "Looks like anything 4000 is due to the counter resetting. Let's get rid of them. Let's also toss the counter columns and the next timeslot."
   ]
  },
  {
   "cell_type": "code",
   "execution_count": 355,
   "metadata": {
    "ExecuteTime": {
     "end_time": "2020-09-27T17:39:38.070367Z",
     "start_time": "2020-09-27T17:39:38.043973Z"
    }
   },
   "outputs": [],
   "source": [
    "turnstiles_by_timeslot.loc[turnstiles_by_timeslot[\"NUM_ENTRIES\"] > 4000, \"NUM_ENTRIES\"] = 0\n",
    "turnstiles_by_timeslot.drop(axis=1, labels=[\"ENTRIES\", \"NEXT_ENTRIES\", \"NEXT_TIME\"], inplace=True)"
   ]
  },
  {
   "cell_type": "markdown",
   "metadata": {},
   "source": [
    "The data are clean! Let's take a look at what's going on."
   ]
  },
  {
   "cell_type": "markdown",
   "metadata": {},
   "source": [
    "## Data Exploration and Analysis"
   ]
  },
  {
   "cell_type": "code",
   "execution_count": 425,
   "metadata": {
    "ExecuteTime": {
     "end_time": "2020-09-27T18:04:48.924316Z",
     "start_time": "2020-09-27T18:04:48.920774Z"
    }
   },
   "outputs": [],
   "source": [
    "import matplotlib.pyplot as plt\n",
    "import seaborn as sns\n",
    "\n",
    "%matplotlib inline"
   ]
  },
  {
   "cell_type": "markdown",
   "metadata": {},
   "source": [
    "Now we're ready to figure out which stations are highly trafficked, and on which dates and times. First, here's our cleaned dataset."
   ]
  },
  {
   "cell_type": "code",
   "execution_count": 426,
   "metadata": {
    "ExecuteTime": {
     "end_time": "2020-09-27T18:04:49.649913Z",
     "start_time": "2020-09-27T18:04:49.638700Z"
    }
   },
   "outputs": [
    {
     "data": {
      "text/html": [
       "<div>\n",
       "<style scoped>\n",
       "    .dataframe tbody tr th:only-of-type {\n",
       "        vertical-align: middle;\n",
       "    }\n",
       "\n",
       "    .dataframe tbody tr th {\n",
       "        vertical-align: top;\n",
       "    }\n",
       "\n",
       "    .dataframe thead th {\n",
       "        text-align: right;\n",
       "    }\n",
       "</style>\n",
       "<table border=\"1\" class=\"dataframe\">\n",
       "  <thead>\n",
       "    <tr style=\"text-align: right;\">\n",
       "      <th></th>\n",
       "      <th>C/A</th>\n",
       "      <th>UNIT</th>\n",
       "      <th>SCP</th>\n",
       "      <th>STATION</th>\n",
       "      <th>DATE_TIME</th>\n",
       "      <th>DATE</th>\n",
       "      <th>TIME</th>\n",
       "      <th>NUM_ENTRIES</th>\n",
       "      <th>DOW_INDEX</th>\n",
       "    </tr>\n",
       "  </thead>\n",
       "  <tbody>\n",
       "    <tr>\n",
       "      <th>0</th>\n",
       "      <td>A002</td>\n",
       "      <td>R051</td>\n",
       "      <td>02-00-00</td>\n",
       "      <td>59 ST</td>\n",
       "      <td>2016-08-27 00:00:00</td>\n",
       "      <td>08/27/2016</td>\n",
       "      <td>00:00:00</td>\n",
       "      <td>21.0</td>\n",
       "      <td>5</td>\n",
       "    </tr>\n",
       "    <tr>\n",
       "      <th>1</th>\n",
       "      <td>A002</td>\n",
       "      <td>R051</td>\n",
       "      <td>02-00-00</td>\n",
       "      <td>59 ST</td>\n",
       "      <td>2016-08-27 04:00:00</td>\n",
       "      <td>08/27/2016</td>\n",
       "      <td>04:00:00</td>\n",
       "      <td>29.0</td>\n",
       "      <td>5</td>\n",
       "    </tr>\n",
       "    <tr>\n",
       "      <th>2</th>\n",
       "      <td>A002</td>\n",
       "      <td>R051</td>\n",
       "      <td>02-00-00</td>\n",
       "      <td>59 ST</td>\n",
       "      <td>2016-08-27 08:00:00</td>\n",
       "      <td>08/27/2016</td>\n",
       "      <td>08:00:00</td>\n",
       "      <td>118.0</td>\n",
       "      <td>5</td>\n",
       "    </tr>\n",
       "    <tr>\n",
       "      <th>3</th>\n",
       "      <td>A002</td>\n",
       "      <td>R051</td>\n",
       "      <td>02-00-00</td>\n",
       "      <td>59 ST</td>\n",
       "      <td>2016-08-27 12:00:00</td>\n",
       "      <td>08/27/2016</td>\n",
       "      <td>12:00:00</td>\n",
       "      <td>223.0</td>\n",
       "      <td>5</td>\n",
       "    </tr>\n",
       "    <tr>\n",
       "      <th>4</th>\n",
       "      <td>A002</td>\n",
       "      <td>R051</td>\n",
       "      <td>02-00-00</td>\n",
       "      <td>59 ST</td>\n",
       "      <td>2016-08-27 16:00:00</td>\n",
       "      <td>08/27/2016</td>\n",
       "      <td>16:00:00</td>\n",
       "      <td>288.0</td>\n",
       "      <td>5</td>\n",
       "    </tr>\n",
       "  </tbody>\n",
       "</table>\n",
       "</div>"
      ],
      "text/plain": [
       "    C/A  UNIT       SCP STATION           DATE_TIME        DATE      TIME  \\\n",
       "0  A002  R051  02-00-00   59 ST 2016-08-27 00:00:00  08/27/2016  00:00:00   \n",
       "1  A002  R051  02-00-00   59 ST 2016-08-27 04:00:00  08/27/2016  04:00:00   \n",
       "2  A002  R051  02-00-00   59 ST 2016-08-27 08:00:00  08/27/2016  08:00:00   \n",
       "3  A002  R051  02-00-00   59 ST 2016-08-27 12:00:00  08/27/2016  12:00:00   \n",
       "4  A002  R051  02-00-00   59 ST 2016-08-27 16:00:00  08/27/2016  16:00:00   \n",
       "\n",
       "   NUM_ENTRIES  DOW_INDEX  \n",
       "0         21.0          5  \n",
       "1         29.0          5  \n",
       "2        118.0          5  \n",
       "3        223.0          5  \n",
       "4        288.0          5  "
      ]
     },
     "execution_count": 426,
     "metadata": {},
     "output_type": "execute_result"
    }
   ],
   "source": [
    "turnstiles_by_timeslot.head(5)"
   ]
  },
  {
   "cell_type": "markdown",
   "metadata": {
    "ExecuteTime": {
     "end_time": "2020-09-27T17:29:11.358984Z",
     "start_time": "2020-09-27T17:29:11.357017Z"
    }
   },
   "source": [
    "Let's see how traffic through the entire subway system varies by the day of the week. Is it worth it to collect signatures on weekends? "
   ]
  },
  {
   "cell_type": "code",
   "execution_count": 427,
   "metadata": {
    "ExecuteTime": {
     "end_time": "2020-09-27T18:04:52.421366Z",
     "start_time": "2020-09-27T18:04:50.381993Z"
    }
   },
   "outputs": [
    {
     "data": {
      "text/plain": [
       "DOW_INDEX\n",
       "0    4.398648e+06\n",
       "1    5.570910e+06\n",
       "2    5.700208e+06\n",
       "3    5.781684e+06\n",
       "4    4.904384e+06\n",
       "5    3.195507e+06\n",
       "6    2.619238e+06\n",
       "Name: NUM_ENTRIES, dtype: float64"
      ]
     },
     "execution_count": 427,
     "metadata": {},
     "output_type": "execute_result"
    }
   ],
   "source": [
    "# Add a column for the day of the week, where 0 is Monday, 1 is Tuesday, etc.\n",
    "turnstiles_by_timeslot[\"DOW_INDEX\"] = turnstiles_by_timeslot[\"DATE_TIME\"].apply(lambda x: x.weekday())\n",
    "\n",
    "# Sum traffic over each date, then group by day of week and take the mean of entries\n",
    "all_traffic_by_date = turnstiles_by_timeslot.groupby([\"DATE\", \"DOW_INDEX\"])[\"NUM_ENTRIES\"].sum()\n",
    "mean_daily_traffic = all_traffic_by_date.groupby([\"DOW_INDEX\"]).mean()\n",
    "mean_daily_traffic"
   ]
  },
  {
   "cell_type": "markdown",
   "metadata": {},
   "source": [
    "Weekends don't seem so great. Let's visualize it:"
   ]
  },
  {
   "cell_type": "code",
   "execution_count": 445,
   "metadata": {
    "ExecuteTime": {
     "end_time": "2020-09-27T18:10:08.151844Z",
     "start_time": "2020-09-27T18:10:08.002794Z"
    }
   },
   "outputs": [
    {
     "data": {
      "image/png": "[encoded data removed]",
      "text/plain": [
       "<Figure size 1080x720 with 1 Axes>"
      ]
     },
     "metadata": {},
     "output_type": "display_data"
    }
   ],
   "source": [
    "sns.set(rc={'figure.figsize':(15,10)})\n",
    "\n",
    "ax = sns.barplot(x=mean_daily_traffic.index, y=mean_daily_traffic)\n",
    "ax.set(ylim=(0, 7000000))\n",
    "\n",
    "ax.set_title(\"Average Entries into MTA (Millions) by Day of Week\", fontsize=28, pad=15)\n",
    "ax.set_xlabel(\"Day of Week\", fontsize = 24)\n",
    "ax.set_ylabel(\"Average MTA Entries (Millions)\", fontsize=24)\n",
    "\n",
    "ax.set_xticklabels([\"Mon\", \"Tue\", \"Wed\", \"Thu\", \"Fri\", \"Sat\", \"Sun\"], fontsize=20)\n",
    "\n",
    "ax.yaxis.set_ticks(np.arange(0,7000000 + 1,1000000))\n",
    "ax.set_yticklabels([0, 1, 2, 3, 4, 5, 6, 7], fontsize=20);"
   ]
  },
  {
   "cell_type": "markdown",
   "metadata": {},
   "source": [
    "The lower traffic on weekends, combined with the fact that people traveling in New York on weekends may be more likely to be visitors, suggests that weekends would be less fruitful for WTWY's signature-gathering efforts. Let's drop the weekend data. Additionally, let's group by station as we're suggesting stations rather than turnstiles."
   ]
  },
  {
   "cell_type": "code",
   "execution_count": 449,
   "metadata": {
    "ExecuteTime": {
     "end_time": "2020-09-27T18:14:49.179211Z",
     "start_time": "2020-09-27T18:14:49.054603Z"
    }
   },
   "outputs": [],
   "source": [
    "stations_by_timeslot = (turnstiles_by_timeslot.groupby(['STATION','DATE_TIME', 'DATE', 'TIME', 'DOW_INDEX'])['NUM_ENTRIES'].sum()\n",
    "                 .reset_index())\n",
    "stations_by_timeslot_weekdays = stations_by_timeslot[stations_by_timeslot['DOW_INDEX'] < 5]"
   ]
  },
  {
   "cell_type": "code",
   "execution_count": 478,
   "metadata": {
    "ExecuteTime": {
     "end_time": "2020-09-27T18:57:23.334963Z",
     "start_time": "2020-09-27T18:57:23.196114Z"
    }
   },
   "outputs": [
    {
     "data": {
      "image/png": "[encoded data removed]",
      "text/plain": [
       "<Figure size 1080x720 with 1 Axes>"
      ]
     },
     "metadata": {},
     "output_type": "display_data"
    }
   ],
   "source": [
    "all_weekday_traffic_by_timeslot = stations_by_timeslot_weekdays.groupby([\"TIME\", \"DATE\"])[\"NUM_ENTRIES\"]\\\n",
    "                                    .sum().groupby(\"TIME\").mean()\n",
    "\n",
    "sns.set(rc={'figure.figsize':(15,10)})\n",
    "\n",
    "ax = sns.barplot(x=all_weekday_traffic_by_timeslot.index, y=all_weekday_traffic_by_timeslot)\n",
    "ax.set(ylim=(0, 2000000))\n",
    "\n",
    "ax.set_title(\"Average Entries into MTA (Millions) by 4-Hour Timeslot\", fontsize=28, pad=15)\n",
    "ax.set_xlabel(\"Beginning of Timeslot\", fontsize = 24)\n",
    "ax.set_ylabel(\"Average MTA Entries (Millions)\", fontsize=24)\n",
    "\n",
    "ax.set_xticklabels([\"12AM\", \"4AM\", \"8AM\", \"12PM\", \"4PM\", \"8PM\"], fontsize=20)\n",
    "\n",
    "ax.yaxis.set_ticks(np.arange(0,2000000 + 1,500000))\n",
    "ax.set_yticklabels([0, 0.5, 1, 1.5, 2], fontsize=20);"
   ]
  },
  {
   "cell_type": "code",
   "execution_count": null,
   "metadata": {},
   "outputs": [],
   "source": [
    "all_weekday_traffic_by_timeslot = stations_by_timeslot_weekdays.groupby([\"TIME\"])\\\n",
    "                                    .mean()\n",
    "\n",
    "# sum by station first\n",
    "ax = sns.barplot(x=all_traffic_by_time_interval.index, y=all_traffic_by_time_interval.values);\n",
    "ax.set(ylim=(0, 2000000));\n",
    "ax.set_xlabel(\"Beginning of Timeslot\", fontsize=20)\n",
    "ax.set_ylabel(\"Average Weekday MTA Entries (Millions)\", fontsize=20)\n",
    "ax.set_title(\"Average Weekday Entries into MTA (Millions) per Four Hours\", fontsize=24, pad=13)\n",
    "ax.yaxis.set_ticks([0, 500000, 1000000, 1500000, 2000000])\n",
    "ax.set_yticklabels([0.0, 0.5, 1.0, 1.5, 2.0], fontsize=16)\n",
    "ax.set_xticklabels([\"12AM\", \"4AM\", \"8AM\", \"12PM\", \"4PM\", \"8PM\"], fontsize=16)\n",
    "sns.set_style(\"whitegrid\")\n",
    "# we can safely drop midnight & 8PM. due to the nature of our data it's harder to distinguish 4AM and 8AM,\n",
    "# but for now we assume people don't want to get to work at 4AM."
   ]
  },
  {
   "cell_type": "code",
   "execution_count": null,
   "metadata": {},
   "outputs": [],
   "source": []
  }
 ],
 "metadata": {
  "kernelspec": {
   "display_name": "Python 3",
   "language": "python",
   "name": "python3"
  },
  "language_info": {
   "codemirror_mode": {
    "name": "ipython",
    "version": 3
   },
   "file_extension": ".py",
   "mimetype": "text/x-python",
   "name": "python",
   "nbconvert_exporter": "python",
   "pygments_lexer": "ipython3",
   "version": "3.8.5"
  },
  "toc": {
   "base_numbering": 1,
   "nav_menu": {},
   "number_sections": true,
   "sideBar": true,
   "skip_h1_title": false,
   "title_cell": "Table of Contents",
   "title_sidebar": "Contents",
   "toc_cell": false,
   "toc_position": {
    "height": "calc(100% - 180px)",
    "left": "10px",
    "top": "150px",
    "width": "358.391px"
   },
   "toc_section_display": true,
   "toc_window_display": true
  }
 },
 "nbformat": 4,
 "nbformat_minor": 4
}
